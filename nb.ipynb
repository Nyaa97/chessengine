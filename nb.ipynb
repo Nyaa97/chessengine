{
 "cells": [
  {
   "cell_type": "code",
   "execution_count": 3,
   "metadata": {},
   "outputs": [
    {
     "name": "stdout",
     "output_type": "stream",
     "text": [
      "{\n",
      "\t\"$schema\": \"config.schema.json\",\n",
      "\t\"colour\": \"w\",\n",
      "\t\"castling\": {\n",
      "\t\t\"wk\": true,\n",
      "\t\t\"wq\": true,\n",
      "\t\t\"bk\": true,\n",
      "\t\t\"bq\": true\n",
      "\t},\n",
      "\t\"arr\": [\n",
      "\t\t[\"r\", \"n\", \"b\", \"q\", \"k\", \"b\", \"n\", \"r\"],\n",
      "\t\t[\"p\", \"p\", \"p\", \"p\", \"p\", \"p\", \"p\", \"p\"],\n",
      "\t\t[\" \", \" \", \" \", \" \", \" \", \" \", \" \", \" \"],\n",
      "\t\t[\" \", \" \", \" \", \" \", \" \", \" \", \" \", \" \"],\n",
      "\t\t[\" \", \" \", \" \", \" \", \" \", \" \", \" \", \" \"],\n",
      "\t\t[\" \", \" \", \" \", \" \", \" \", \" \", \" \", \" \"],\n",
      "\t\t[\"P\", \"P\", \"P\", \"P\", \"P\", \"P\", \"P\", \"P\"],\n",
      "\t\t[\"R\", \"N\", \"B\", \"Q\", \"K\", \"B\", \"N\", \"R\"]\n",
      "\t]\n",
      "}\n",
      "\n"
     ]
    }
   ],
   "source": [
    "x = 'rnbqkbnr/pppppppp/8/8/8/8/PPPPPPPP/RNBQKBNR w KQkq - 0 1'\n",
    "y = x.split(' ')\n",
    "z = y[0].split('/')\n",
    "out = '{\\n\\t\"$schema\": \"config.schema.json\",\\n\\t\"colour\": \"' + y[1] + '\",\\n\\t\"castling\": {\\n'\n",
    "out += '\\t\\t\"wk\": ' + '{},\\n'.format(y[2].find('K') != -1).lower()\n",
    "out += '\\t\\t\"wq\": ' + '{},\\n'.format(y[2].find('Q') != -1).lower()\n",
    "out += '\\t\\t\"bk\": ' + '{},\\n'.format(y[2].find('k') != -1).lower()\n",
    "out += '\\t\\t\"bq\": ' + '{}\\n'.format(y[2].find('q') != -1).lower()\n",
    "out += '\\t},\\n\\t\"arr\": [\\n'\n",
    "for i in z:\n",
    "\tout += '\\t\\t['\n",
    "\tfor j in i:\n",
    "\t\tif ord(j) > 60:\n",
    "\t\t\tout += '\"%c\", ' % j\n",
    "\t\telse:\n",
    "\t\t\tfor _ in range(int(j)):\n",
    "\t\t\t\tout += '\" \", '\n",
    "\tout = out.rstrip(', ')\n",
    "\tout += '],\\n'\n",
    "out = out.rstrip(',\\n')\n",
    "out += '\\n\\t]\\n}\\n'\n",
    "print(out)\n"
   ]
  }
 ],
 "metadata": {
  "kernelspec": {
   "display_name": "Python 3.10.8 64-bit",
   "language": "python",
   "name": "python3"
  },
  "language_info": {
   "codemirror_mode": {
    "name": "ipython",
    "version": 3
   },
   "file_extension": ".py",
   "mimetype": "text/x-python",
   "name": "python",
   "nbconvert_exporter": "python",
   "pygments_lexer": "ipython3",
   "version": "3.10.8"
  },
  "orig_nbformat": 4,
  "vscode": {
   "interpreter": {
    "hash": "e7370f93d1d0cde622a1f8e1c04877d8463912d04d973331ad4851f04de6915a"
   }
  }
 },
 "nbformat": 4,
 "nbformat_minor": 2
}
